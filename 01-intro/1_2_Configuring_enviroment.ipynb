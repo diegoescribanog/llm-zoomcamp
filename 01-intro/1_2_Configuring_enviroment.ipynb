{
 "cells": [
  {
   "cell_type": "code",
   "execution_count": 1,
   "metadata": {},
   "outputs": [],
   "source": [
    "from openai import OpenAI"
   ]
  },
  {
   "cell_type": "code",
   "execution_count": 3,
   "metadata": {},
   "outputs": [],
   "source": [
    "import os\n",
    "os.environ['OPENAI_API_KEY'] = 'my_api_key'"
   ]
  },
  {
   "cell_type": "code",
   "execution_count": 4,
   "metadata": {},
   "outputs": [],
   "source": [
    "client = OpenAI()"
   ]
  },
  {
   "cell_type": "code",
   "execution_count": 5,
   "metadata": {},
   "outputs": [],
   "source": [
    "response = client.chat.completions.create(\n",
    "    model = 'gpt-4o', \n",
    "    messages =[{\"role\": \"user\", \"content\": \"is it too late to join the course\"}]\n",
    ")"
   ]
  },
  {
   "cell_type": "code",
   "execution_count": 8,
   "metadata": {},
   "outputs": [
    {
     "data": {
      "text/plain": [
       "\"Whether or not it's too late to join a course depends on several factors, including the specific course structure, enrollment deadlines, and the policies of the institution or organization offering the course. Here are some steps you can take to determine if it's still possible to join:\\n\\n1. **Check Deadlines:** Look for any enrollment deadlines provided on the course's official website or contact the admissions office. \\n\\n2. **Contact the Instructor or Administration:** Reach out directly to the course instructor or the relevant administrative office to inquire about late enrollment policies.\\n\\n3. **Review Course Requirements:** Some courses, especially those with prerequisites or a structured syllabus, might be difficult to catch up with if you're joining late. Review any posted syllabi or course requirements to assess whether it's feasible to join at this point.\\n\\n4. **Online Courses:** If the course is online and self-paced, you may have more flexibility with start dates and deadlines. Check the platform's policies.\\n\\n5. **Catch-Up Plan:** If late enrollment is allowed, you may need to develop a catch-up plan to cover any missed material.\\n\\n6. **Financial Considerations:** Make sure to understand the financial implications, such as tuition fees or penalties for late registration if applicable.\\n\\nBy taking these steps, you can clarify your options and make an informed decision about whether it's too late to join the course.\""
      ]
     },
     "execution_count": 8,
     "metadata": {},
     "output_type": "execute_result"
    }
   ],
   "source": [
    "response.choices[0].message.content"
   ]
  }
 ],
 "metadata": {
  "kernelspec": {
   "display_name": "Python 3 (ipykernel)",
   "language": "python",
   "name": "python3"
  }
 },
 "nbformat": 4,
 "nbformat_minor": 2
}
